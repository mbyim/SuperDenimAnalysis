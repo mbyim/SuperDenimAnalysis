{
 "cells": [
  {
   "cell_type": "code",
   "execution_count": 1,
   "metadata": {
    "collapsed": false
   },
   "outputs": [],
   "source": [
    "import simplejson as json\n",
    "import matplotlib.pyplot as plt\n",
    "import pandas\n",
    "import string\n",
    "from datetime import datetime\n",
    "import sklearn\n",
    "\n",
    "%matplotlib inline\n",
    "superinfo = open(\"attempt2.json\", \"r\")\n",
    "data = superinfo.read()\n",
    "superdata = json.loads(data)\n",
    "superinfo.close() "
   ]
  },
  {
   "cell_type": "code",
   "execution_count": 2,
   "metadata": {
    "collapsed": false
   },
   "outputs": [
    {
     "name": "stdout",
     "output_type": "stream",
     "text": [
      "626450\n",
      "5901\n"
     ]
    }
   ],
   "source": [
    "#Split data into threads and posts datasets\n",
    "#Make two new lists to append json's to so each is a list of jsons which I can then iterate through and clean\n",
    "\n",
    "threaddata = []\n",
    "postdata = []\n",
    "\n",
    "for item in superdata:\n",
    "    \n",
    "    try:\n",
    "        if item[\"threadurl\"]:\n",
    "            threaddata.append(item)\n",
    "                   \n",
    "    except:\n",
    "        postdata.append(item)\n",
    "        \n",
    "print len(postdata)\n",
    "print len(threaddata)\n",
    "        "
   ]
  },
  {
   "cell_type": "code",
   "execution_count": 3,
   "metadata": {
    "collapsed": false
   },
   "outputs": [
    {
     "name": "stdout",
     "output_type": "stream",
     "text": [
      "Done\n"
     ]
    }
   ],
   "source": [
    "#Turn the lists of JSON's into lists of lists of cleaned attributes that I can then input into a dataframe\n",
    "\n",
    "#initializing the tables to be appended to and then converted to dataframes\n",
    "threadlists = []\n",
    "postlists = []\n",
    "\n",
    "#Cleaning/Creating thread list of lists\n",
    "\n",
    "for json in threaddata:\n",
    " \n",
    "    lst = []\n",
    "    lst.append(json[\"threadurl\"][0])\n",
    "    replies = str(json[\"thread_replies\"].replace(u'\\xa0',u'').replace(\"\\n\",\"\").replace(\"\\t\",\"\").replace(\" replies\",\"\"))\n",
    "    lst.append(replies)\n",
    "    lst.append(str(json[\"threadcreator\"]).replace(\"[\",\"\").replace(\"]\",\"\"))\n",
    "    lst.append(json[\"threaddate\"][0])\n",
    "    lst.append(json[\"thread_views\"][0].replace(\" views\",\"\"))\n",
    "    threadlists.append(lst)\n",
    "\n",
    "\n",
    "#Cleaning/Creating post list of lists\n",
    "\n",
    "for json in postdata:\n",
    "\n",
    "    lst = []\n",
    "    lst.append(json[\"posterID\"][0])\n",
    "    lst.append(json[\"postdate\"][0])\n",
    "    lst.append(str(json[\"posterClass\"]).replace(\"[\",\"\").replace(\"]\",\"\"))\n",
    "    lst.append(json[\"postnum\"].replace(\"#\",\"\").replace(\"\\n\",\"\").replace(\"\\t\",\"\"))\n",
    "    lst.append(json[\"posturl\"][0])\n",
    "    content = json[\"postcontent\"]\n",
    "    contentstr = ''.join(content)\n",
    "    contentstrcl = contentstr.replace(\"\\t\",\"\")\n",
    "    lst.append(contentstrcl)\n",
    "    lst.append(json[\"poster_post_count\"].replace(\" posts\",\"\").replace(\"\\n\",\"\").replace(\"\\t\",\"\"))\n",
    "    postlists.append(lst)\n",
    "    \n",
    "print \"Done\""
   ]
  },
  {
   "cell_type": "code",
   "execution_count": 4,
   "metadata": {
    "collapsed": false
   },
   "outputs": [
    {
     "name": "stdout",
     "output_type": "stream",
     "text": [
      "Done\n"
     ]
    }
   ],
   "source": [
    "#Making the DF's\n",
    "\n",
    "threaddf = pandas.DataFrame(threadlists)\n",
    "postdf = pandas.DataFrame(postlists)\n",
    "threaddf.columns = [\"ThreadURL\", \"Replies\", \"Creator\", \"CreateDate\", \"Views\"]\n",
    "postdf.columns = [\"PosterID\", \"PostDate\", \"Class\", \"PostNum\", \"PostURL\", \"PostContent\", \"PosterPostCount\"]\n",
    "print \"Done\""
   ]
  },
  {
   "cell_type": "code",
   "execution_count": 5,
   "metadata": {
    "collapsed": false
   },
   "outputs": [
    {
     "data": {
      "text/html": [
       "<div>\n",
       "<table border=\"1\" class=\"dataframe\">\n",
       "  <thead>\n",
       "    <tr style=\"text-align: right;\">\n",
       "      <th></th>\n",
       "      <th>ThreadURL</th>\n",
       "      <th>Replies</th>\n",
       "      <th>Creator</th>\n",
       "      <th>CreateDate</th>\n",
       "      <th>Views</th>\n",
       "    </tr>\n",
       "  </thead>\n",
       "  <tbody>\n",
       "    <tr>\n",
       "      <th>0</th>\n",
       "      <td>http://supertalk.superfuture.com/index.php/top...</td>\n",
       "      <td>1,609</td>\n",
       "      <td>'narin'</td>\n",
       "      <td>04 Aug 2006</td>\n",
       "      <td>278,104</td>\n",
       "    </tr>\n",
       "    <tr>\n",
       "      <th>1</th>\n",
       "      <td>http://supertalk.superfuture.com/index.php/top...</td>\n",
       "      <td></td>\n",
       "      <td>'jaspar'</td>\n",
       "      <td>19 Jan 2007</td>\n",
       "      <td>61,984</td>\n",
       "    </tr>\n",
       "    <tr>\n",
       "      <th>2</th>\n",
       "      <td>http://supertalk.superfuture.com/index.php/top...</td>\n",
       "      <td></td>\n",
       "      <td>'Duconos los Grecos'</td>\n",
       "      <td>29 May 2016</td>\n",
       "      <td>184</td>\n",
       "    </tr>\n",
       "    <tr>\n",
       "      <th>3</th>\n",
       "      <td>http://supertalk.superfuture.com/index.php/top...</td>\n",
       "      <td></td>\n",
       "      <td>'volvo240thebest'</td>\n",
       "      <td>31 Mar 2015</td>\n",
       "      <td>14,603</td>\n",
       "    </tr>\n",
       "    <tr>\n",
       "      <th>4</th>\n",
       "      <td>http://supertalk.superfuture.com/index.php/top...</td>\n",
       "      <td>806</td>\n",
       "      <td>'partytaco'</td>\n",
       "      <td>06 Jun 2006</td>\n",
       "      <td>102,373</td>\n",
       "    </tr>\n",
       "  </tbody>\n",
       "</table>\n",
       "</div>"
      ],
      "text/plain": [
       "                                           ThreadURL Replies  \\\n",
       "0  http://supertalk.superfuture.com/index.php/top...   1,609   \n",
       "1  http://supertalk.superfuture.com/index.php/top...           \n",
       "2  http://supertalk.superfuture.com/index.php/top...           \n",
       "3  http://supertalk.superfuture.com/index.php/top...           \n",
       "4  http://supertalk.superfuture.com/index.php/top...     806   \n",
       "\n",
       "                Creator   CreateDate    Views  \n",
       "0               'narin'  04 Aug 2006  278,104  \n",
       "1              'jaspar'  19 Jan 2007   61,984  \n",
       "2  'Duconos los Grecos'  29 May 2016      184  \n",
       "3     'volvo240thebest'  31 Mar 2015   14,603  \n",
       "4           'partytaco'  06 Jun 2006  102,373  "
      ]
     },
     "execution_count": 5,
     "metadata": {},
     "output_type": "execute_result"
    }
   ],
   "source": [
    "threaddf.head()"
   ]
  },
  {
   "cell_type": "code",
   "execution_count": 6,
   "metadata": {
    "collapsed": false
   },
   "outputs": [
    {
     "data": {
      "text/html": [
       "<div>\n",
       "<table border=\"1\" class=\"dataframe\">\n",
       "  <thead>\n",
       "    <tr style=\"text-align: right;\">\n",
       "      <th></th>\n",
       "      <th>PosterID</th>\n",
       "      <th>PostDate</th>\n",
       "      <th>Class</th>\n",
       "      <th>PostNum</th>\n",
       "      <th>PostURL</th>\n",
       "      <th>PostContent</th>\n",
       "      <th>PosterPostCount</th>\n",
       "    </tr>\n",
       "  </thead>\n",
       "  <tbody>\n",
       "    <tr>\n",
       "      <th>0</th>\n",
       "      <td>breadgetbun</td>\n",
       "      <td>23 January 2016 - 11:21 PM</td>\n",
       "      <td>'member\\n\\t\\t'</td>\n",
       "      <td>1</td>\n",
       "      <td>http://supertalk.superfuture.com/index.php/top...</td>\n",
       "      <td>\\n\\n\\n\\n\\n\\n</td>\n",
       "      <td>2</td>\n",
       "    </tr>\n",
       "    <tr>\n",
       "      <th>1</th>\n",
       "      <td>Iron Horse</td>\n",
       "      <td>24 January 2016 - 03:09 AM</td>\n",
       "      <td>'member\\n\\t\\t'</td>\n",
       "      <td>2</td>\n",
       "      <td>http://supertalk.superfuture.com/index.php/top...</td>\n",
       "      <td>\\n\\n\\n\\n\\n\\n</td>\n",
       "      <td>712</td>\n",
       "    </tr>\n",
       "    <tr>\n",
       "      <th>2</th>\n",
       "      <td>kicks79</td>\n",
       "      <td>24 January 2016 - 03:48 AM</td>\n",
       "      <td>'member\\n\\t\\t'</td>\n",
       "      <td>3</td>\n",
       "      <td>http://supertalk.superfuture.com/index.php/top...</td>\n",
       "      <td>\\n\\n\\n\\n\\n\\n\\n\\n\\n\\n\\n\\n\\n\\n\\n</td>\n",
       "      <td>374</td>\n",
       "    </tr>\n",
       "    <tr>\n",
       "      <th>3</th>\n",
       "      <td>Mr-Bielby</td>\n",
       "      <td>24 January 2016 - 04:28 AM</td>\n",
       "      <td>'member\\n\\t\\t'</td>\n",
       "      <td>4</td>\n",
       "      <td>http://supertalk.superfuture.com/index.php/top...</td>\n",
       "      <td>\\nStudio D'Artisan 5XX range\\n\\n\\n\\n</td>\n",
       "      <td>421</td>\n",
       "    </tr>\n",
       "    <tr>\n",
       "      <th>4</th>\n",
       "      <td>Foxy2</td>\n",
       "      <td>24 January 2016 - 07:11 AM</td>\n",
       "      <td>'member\\n\\t\\t'</td>\n",
       "      <td>5</td>\n",
       "      <td>http://supertalk.superfuture.com/index.php/top...</td>\n",
       "      <td>\\nSDA used to have a pair in a denim slightly ...</td>\n",
       "      <td>1,251</td>\n",
       "    </tr>\n",
       "  </tbody>\n",
       "</table>\n",
       "</div>"
      ],
      "text/plain": [
       "      PosterID                    PostDate           Class PostNum  \\\n",
       "0  breadgetbun  23 January 2016 - 11:21 PM  'member\\n\\t\\t'       1   \n",
       "1   Iron Horse  24 January 2016 - 03:09 AM  'member\\n\\t\\t'       2   \n",
       "2      kicks79  24 January 2016 - 03:48 AM  'member\\n\\t\\t'       3   \n",
       "3    Mr-Bielby  24 January 2016 - 04:28 AM  'member\\n\\t\\t'       4   \n",
       "4        Foxy2  24 January 2016 - 07:11 AM  'member\\n\\t\\t'       5   \n",
       "\n",
       "                                             PostURL  \\\n",
       "0  http://supertalk.superfuture.com/index.php/top...   \n",
       "1  http://supertalk.superfuture.com/index.php/top...   \n",
       "2  http://supertalk.superfuture.com/index.php/top...   \n",
       "3  http://supertalk.superfuture.com/index.php/top...   \n",
       "4  http://supertalk.superfuture.com/index.php/top...   \n",
       "\n",
       "                                         PostContent PosterPostCount  \n",
       "0                                       \\n\\n\\n\\n\\n\\n               2  \n",
       "1                                       \\n\\n\\n\\n\\n\\n             712  \n",
       "2                     \\n\\n\\n\\n\\n\\n\\n\\n\\n\\n\\n\\n\\n\\n\\n             374  \n",
       "3               \\nStudio D'Artisan 5XX range\\n\\n\\n\\n             421  \n",
       "4  \\nSDA used to have a pair in a denim slightly ...           1,251  "
      ]
     },
     "execution_count": 6,
     "metadata": {},
     "output_type": "execute_result"
    }
   ],
   "source": [
    "postdf.head()"
   ]
  },
  {
   "cell_type": "markdown",
   "metadata": {},
   "source": [
    "**Exploring**: At this point, the raw json file outputs from the scrapy scraper have been cleaned (mostly) and structured into two pandas dataframes, one contains information on each thread from the superdenim forum board, and the other contains information on all posts from the superdenim threads. Essentially, capturing all of the board's information\n",
    "\n",
    "**To Note**: Through the process of learning how to use scrapy (previously I had only used beatifulsoup to do webscraping), I was able to scrape virtually all of the threads and posts. Unfortunately, certain attributes such as thread_views, seem to be missing many more values than I was anticipating. Having already spent a fair amount of time building and refining the webscraping (I wrote a webscraper by scratch in beatiful soup before learning about scrapy!), I got a little impatient, and decided to go ahead with the rest of the exploration and analysis process. On the bright side, real-world data is not always clean-cut, and this is an opportunity to begin to wrangle with the complexities that emerge from real-world data (missing values, etc.).\n",
    "\n"
   ]
  },
  {
   "cell_type": "code",
   "execution_count": 7,
   "metadata": {
    "collapsed": false,
    "scrolled": false
   },
   "outputs": [
    {
     "name": "stdout",
     "output_type": "stream",
     "text": [
      "626450\n",
      "626450\n"
     ]
    },
    {
     "data": {
      "text/html": [
       "<div>\n",
       "<table border=\"1\" class=\"dataframe\">\n",
       "  <thead>\n",
       "    <tr style=\"text-align: right;\">\n",
       "      <th></th>\n",
       "      <th>PosterID</th>\n",
       "      <th>PostDate</th>\n",
       "      <th>Class</th>\n",
       "      <th>PostNum</th>\n",
       "      <th>PostURL</th>\n",
       "      <th>PostContent</th>\n",
       "      <th>PosterPostCount</th>\n",
       "      <th>Datetime</th>\n",
       "    </tr>\n",
       "  </thead>\n",
       "  <tbody>\n",
       "    <tr>\n",
       "      <th>0</th>\n",
       "      <td>breadgetbun</td>\n",
       "      <td>23 January 2016 - 11:21 PM</td>\n",
       "      <td>'member\\n\\t\\t'</td>\n",
       "      <td>1</td>\n",
       "      <td>http://supertalk.superfuture.com/index.php/top...</td>\n",
       "      <td>\\n\\n\\n\\n\\n\\n</td>\n",
       "      <td>2</td>\n",
       "      <td>2016-01-23 23:21:00</td>\n",
       "    </tr>\n",
       "    <tr>\n",
       "      <th>1</th>\n",
       "      <td>Iron Horse</td>\n",
       "      <td>24 January 2016 - 03:09 AM</td>\n",
       "      <td>'member\\n\\t\\t'</td>\n",
       "      <td>2</td>\n",
       "      <td>http://supertalk.superfuture.com/index.php/top...</td>\n",
       "      <td>\\n\\n\\n\\n\\n\\n</td>\n",
       "      <td>712</td>\n",
       "      <td>2016-01-24 03:09:00</td>\n",
       "    </tr>\n",
       "    <tr>\n",
       "      <th>2</th>\n",
       "      <td>kicks79</td>\n",
       "      <td>24 January 2016 - 03:48 AM</td>\n",
       "      <td>'member\\n\\t\\t'</td>\n",
       "      <td>3</td>\n",
       "      <td>http://supertalk.superfuture.com/index.php/top...</td>\n",
       "      <td>\\n\\n\\n\\n\\n\\n\\n\\n\\n\\n\\n\\n\\n\\n\\n</td>\n",
       "      <td>374</td>\n",
       "      <td>2016-01-24 03:48:00</td>\n",
       "    </tr>\n",
       "    <tr>\n",
       "      <th>3</th>\n",
       "      <td>Mr-Bielby</td>\n",
       "      <td>24 January 2016 - 04:28 AM</td>\n",
       "      <td>'member\\n\\t\\t'</td>\n",
       "      <td>4</td>\n",
       "      <td>http://supertalk.superfuture.com/index.php/top...</td>\n",
       "      <td>\\nStudio D'Artisan 5XX range\\n\\n\\n\\n</td>\n",
       "      <td>421</td>\n",
       "      <td>2016-01-24 04:28:00</td>\n",
       "    </tr>\n",
       "    <tr>\n",
       "      <th>4</th>\n",
       "      <td>Foxy2</td>\n",
       "      <td>24 January 2016 - 07:11 AM</td>\n",
       "      <td>'member\\n\\t\\t'</td>\n",
       "      <td>5</td>\n",
       "      <td>http://supertalk.superfuture.com/index.php/top...</td>\n",
       "      <td>\\nSDA used to have a pair in a denim slightly ...</td>\n",
       "      <td>1,251</td>\n",
       "      <td>2016-01-24 07:11:00</td>\n",
       "    </tr>\n",
       "  </tbody>\n",
       "</table>\n",
       "</div>"
      ],
      "text/plain": [
       "      PosterID                    PostDate           Class PostNum  \\\n",
       "0  breadgetbun  23 January 2016 - 11:21 PM  'member\\n\\t\\t'       1   \n",
       "1   Iron Horse  24 January 2016 - 03:09 AM  'member\\n\\t\\t'       2   \n",
       "2      kicks79  24 January 2016 - 03:48 AM  'member\\n\\t\\t'       3   \n",
       "3    Mr-Bielby  24 January 2016 - 04:28 AM  'member\\n\\t\\t'       4   \n",
       "4        Foxy2  24 January 2016 - 07:11 AM  'member\\n\\t\\t'       5   \n",
       "\n",
       "                                             PostURL  \\\n",
       "0  http://supertalk.superfuture.com/index.php/top...   \n",
       "1  http://supertalk.superfuture.com/index.php/top...   \n",
       "2  http://supertalk.superfuture.com/index.php/top...   \n",
       "3  http://supertalk.superfuture.com/index.php/top...   \n",
       "4  http://supertalk.superfuture.com/index.php/top...   \n",
       "\n",
       "                                         PostContent PosterPostCount  \\\n",
       "0                                       \\n\\n\\n\\n\\n\\n               2   \n",
       "1                                       \\n\\n\\n\\n\\n\\n             712   \n",
       "2                     \\n\\n\\n\\n\\n\\n\\n\\n\\n\\n\\n\\n\\n\\n\\n             374   \n",
       "3               \\nStudio D'Artisan 5XX range\\n\\n\\n\\n             421   \n",
       "4  \\nSDA used to have a pair in a denim slightly ...           1,251   \n",
       "\n",
       "             Datetime  \n",
       "0 2016-01-23 23:21:00  \n",
       "1 2016-01-24 03:09:00  \n",
       "2 2016-01-24 03:48:00  \n",
       "3 2016-01-24 04:28:00  \n",
       "4 2016-01-24 07:11:00  "
      ]
     },
     "execution_count": 7,
     "metadata": {},
     "output_type": "execute_result"
    }
   ],
   "source": [
    "#Looking at post frequency time series (by month) via histogram/line plot (freq by month)\n",
    "\n",
    "#month reference\n",
    "months = { 'January': 1, 'February': 2, 'March': 3, 'April': 4, 'May': 5, 'June': 6, 'July': 7, 'August': 8, 'September': 9, 'October': 10, 'November': 11, 'December': 12}\n",
    "\n",
    "#make list of dates of posts\n",
    "dates = []\n",
    "for index, row in postdf.iterrows():\n",
    "    time = row[\"PostDate\"].split(\" \")\n",
    "    \n",
    "    try:\n",
    "        hrmin = [int(x) for x in time[4].split(\":\")]\n",
    "\n",
    "        if time[5] == \"PM\" and hrmin[0] != 12:\n",
    "            hrmin[0] += 12\n",
    "        elif time[5] == \"PM\" and hrmin[0] == 12:\n",
    "            hrmin[0] = 0\n",
    "\n",
    "        date = pandas.datetime(int(time[2]), int(months[time[1]]), int(time[0]), hrmin[0], hrmin[1])\n",
    " \n",
    "        dates.append(date)\n",
    "    except:\n",
    "        \n",
    "        if time[0] == \"Today,\":\n",
    "            hrmin = [int(x) for x in time[1].split(\":\")]\n",
    "            \n",
    "\n",
    "            if time[2] == \"PM\" and hrmin[0] != 12:\n",
    "                hrmin[0] += 12\n",
    "            elif time[2] == \"PM\" and hrmin[0] == 12:\n",
    "                hrmin[0] = 0\n",
    "\n",
    "            date = pandas.datetime(2016, 6, 5, hrmin[0], hrmin[1])\n",
    "            dates.append(date)\n",
    "            \n",
    "        elif time[0] == \"Yesterday,\":\n",
    "            hrmin = [int(x) for x in time[1].split(\":\")]\n",
    "        \n",
    "\n",
    "            if time[2] == \"PM\" and hrmin[0] != 12:\n",
    "                hrmin[0] += 12\n",
    "            elif time[2] == \"PM\" and hrmin[0] == 12:\n",
    "                hrmin[0] = 0\n",
    "\n",
    "            date = pandas.datetime(2016, 6, 4, hrmin[0], hrmin[1])\n",
    "            dates.append(date)\n",
    "\n",
    "print len(dates)\n",
    "print len(postdf)\n",
    "postdf[\"Datetime\"] = dates\n",
    "\n",
    "postdf.head()"
   ]
  },
  {
   "cell_type": "code",
   "execution_count": 8,
   "metadata": {
    "collapsed": false
   },
   "outputs": [
    {
     "name": "stdout",
     "output_type": "stream",
     "text": [
      "             Datetime  value\n",
      "0 2016-01-23 23:21:00      1\n",
      "1 2016-01-24 03:09:00      1\n",
      "2 2016-01-24 03:48:00      1\n",
      "3 2016-01-24 04:28:00      1\n",
      "4 2016-01-24 07:11:00      1\n"
     ]
    },
    {
     "data": {
      "text/plain": [
       "[<matplotlib.text.Text at 0x19ba9ca10>, <matplotlib.text.Text at 0x19ee9eb10>]"
      ]
     },
     "execution_count": 8,
     "metadata": {},
     "output_type": "execute_result"
    },
    {
     "data": {
      "image/png": "[encoded data removed]",
      "text/plain": [
       "<matplotlib.figure.Figure at 0x185a86150>"
      ]
     },
     "metadata": {},
     "output_type": "display_data"
    }
   ],
   "source": [
    "#Ok, now to actually graph it out\n",
    "values = [1]*626450\n",
    "postfreqdf = pandas.DataFrame(postdf['Datetime'])\n",
    "postfreqdf['value'] = values\n",
    "print postfreqdf.head()\n",
    "postdatefreq = postfreqdf.set_index('Datetime').resample('M').sum()\n",
    "freqplot = postdatefreq.plot(x_compat=True, legend = False)\n",
    "freqplot.set(xlabel=\"Date\", ylabel=\"Number of Posts\")"
   ]
  },
  {
   "cell_type": "markdown",
   "metadata": {},
   "source": [
    "Grouping posts by month and year, this plot shows the number of times people posted during each period. The forum seems to have reached a high level of activity around 2007, and continued to experience a relatively high level of activity until around midway through 2011. After 2011, the post count per month dropped dramatically and never recovered. In fact, the current density of posts is about at the same levels as late 2006."
   ]
  },
  {
   "cell_type": "code",
   "execution_count": 9,
   "metadata": {
    "collapsed": false
   },
   "outputs": [
    {
     "data": {
      "text/html": [
       "<div>\n",
       "<table border=\"1\" class=\"dataframe\">\n",
       "  <thead>\n",
       "    <tr style=\"text-align: right;\">\n",
       "      <th></th>\n",
       "      <th>ThreadURL</th>\n",
       "      <th>Replies</th>\n",
       "    </tr>\n",
       "  </thead>\n",
       "  <tbody>\n",
       "    <tr>\n",
       "      <th>0</th>\n",
       "      <td>http://supertalk.superfuture.com/index.php/top...</td>\n",
       "      <td>6</td>\n",
       "    </tr>\n",
       "    <tr>\n",
       "      <th>1</th>\n",
       "      <td>http://supertalk.superfuture.com/index.php/top...</td>\n",
       "      <td>10</td>\n",
       "    </tr>\n",
       "    <tr>\n",
       "      <th>2</th>\n",
       "      <td>http://supertalk.superfuture.com/index.php/top...</td>\n",
       "      <td>61</td>\n",
       "    </tr>\n",
       "    <tr>\n",
       "      <th>3</th>\n",
       "      <td>http://supertalk.superfuture.com/index.php/top...</td>\n",
       "      <td>3</td>\n",
       "    </tr>\n",
       "    <tr>\n",
       "      <th>4</th>\n",
       "      <td>http://supertalk.superfuture.com/index.php/top...</td>\n",
       "      <td>238</td>\n",
       "    </tr>\n",
       "  </tbody>\n",
       "</table>\n",
       "</div>"
      ],
      "text/plain": [
       "                                           ThreadURL  Replies\n",
       "0  http://supertalk.superfuture.com/index.php/top...        6\n",
       "1  http://supertalk.superfuture.com/index.php/top...       10\n",
       "2  http://supertalk.superfuture.com/index.php/top...       61\n",
       "3  http://supertalk.superfuture.com/index.php/top...        3\n",
       "4  http://supertalk.superfuture.com/index.php/top...      238"
      ]
     },
     "execution_count": 9,
     "metadata": {},
     "output_type": "execute_result"
    }
   ],
   "source": [
    "####Getting Thread Replies from Post data###\n",
    "\n",
    "'''Web Scraper failed to grab thread reply figures most of the time for reasons unknown (javascript?), however, I can\n",
    "reassemble this data from the PostData. Having grabbed the PostURLs, I can parse these for Thread identifiers and \n",
    "use those to create a dictionary from which I can then create a dataframe and conduct the analysis'''\n",
    "\n",
    "postdf['PostURL'][0]\n",
    "\n",
    "threadreplies = {}\n",
    "\n",
    "for index,row in postdf.iterrows():\n",
    "\n",
    "    urlparts = row[\"PostURL\"].split('/')\n",
    "    threadID = urlparts[-2]\n",
    "    if threadID in threadreplies:\n",
    "        threadreplies[threadID] += 1\n",
    "    else:\n",
    "        threadreplies[threadID] = 1\n",
    "\n",
    "repliesdf = pandas.DataFrame(threadreplies.items(), columns=['ThreadID', 'Replies'])\n",
    "\n",
    "\n",
    "def urlmaker(x):\n",
    "    return \"http://supertalk.superfuture.com/index.php/topic/\" + x + \"/\"\n",
    "repliesdf['ThreadID'] = repliesdf['ThreadID'].apply(urlmaker)\n",
    "\n",
    "repliesdf.rename(columns={'ThreadID': 'ThreadURL', 'Replies': 'Replies'}, inplace = True)\n",
    "repliesdf.head()\n"
   ]
  },
  {
   "cell_type": "code",
   "execution_count": 10,
   "metadata": {
    "collapsed": false
   },
   "outputs": [
    {
     "name": "stdout",
     "output_type": "stream",
     "text": [
      "False\n"
     ]
    }
   ],
   "source": [
    "#Restarting from here; lets make a dataframe with ThreadURL, Replies, and Views to run a simple linear regression\n",
    "\n",
    "regdf = repliesdf\n",
    "postviews = threaddf[['ThreadURL', 'Views']]\n",
    "regdf = regdf.merge(postviews, on = \"ThreadURL\", how = 'left')\n",
    "\n",
    "regdf.shape\n",
    "print regdf.isnull().values.any()"
   ]
  },
  {
   "cell_type": "code",
   "execution_count": 11,
   "metadata": {
    "collapsed": false
   },
   "outputs": [
    {
     "name": "stdout",
     "output_type": "stream",
     "text": [
      "(5885, 1)\n",
      "(5885, 1)\n",
      "Coefficients: [[ 136.35802614]]\n",
      "R^2 = 0.936237105041\n"
     ]
    }
   ],
   "source": [
    "#Setting up inputs\n",
    "import numpy\n",
    "regdf['Views'] = regdf['Views'].apply(lambda x: x.replace(\",\",\"\"))\n",
    "y_df = pandas.DataFrame(regdf, columns = ['Views'])\n",
    "finalregdf = pandas.DataFrame(regdf, columns = ['Replies']) #regdf['Replies']\n",
    "print y_df.shape\n",
    "print finalregdf.shape\n",
    "\n",
    "#Regression analysis to Predict Views\n",
    "from sklearn.cross_validation import train_test_split\n",
    "from sklearn import datasets, linear_model\n",
    "import numpy as np\n",
    "X_train, X_test, y_train, y_test = train_test_split(finalregdf, y_df, test_size = 0.2)\n",
    "\n",
    "\n",
    "#Running Regression\n",
    "repliesmodel = linear_model.LinearRegression()\n",
    "repliesmodel.fit(X_train, y_train)\n",
    "print 'Coefficients:', repliesmodel.coef_\n",
    "\n",
    "#Testing/Evaluating model\n",
    "score = repliesmodel.score(X_test, y_test)\n",
    "print 'R^2 =', score\n",
    "\n"
   ]
  },
  {
   "cell_type": "markdown",
   "metadata": {},
   "source": [
    "This simple linear regression shows that the number of thread replies is a very strong predictor of how many views a thread cultivated. Of course, there are probably confounding factors here, and these variables are inherently correlated. Stil, its interesting to see exactly how strong the prediction of Views is based only on Replies."
   ]
  },
  {
   "cell_type": "markdown",
   "metadata": {
    "collapsed": false
   },
   "source": [
    "**Everything below this is unfinished work**"
   ]
  },
  {
   "cell_type": "code",
   "execution_count": 17,
   "metadata": {
    "collapsed": false
   },
   "outputs": [
    {
     "name": "stdout",
     "output_type": "stream",
     "text": [
      "Done\n",
      "7078\n"
     ]
    }
   ],
   "source": [
    "#Text Mining, Classifying text? what else? idk what to do, but i gotta use the content of the posts to do something\n",
    "\n",
    "###Looking at Word Frequency in Post Content###\n",
    "\n",
    "#initalizing dictionary to count frequencies and hold data\n",
    "wordfreq = {}\n",
    "\n",
    "for index, row in postdf.iterrows():\n",
    "    content = row['PostContent']   \n",
    "    #need to still remove punctuation\n",
    "    semi_clean_text = content.replace(\"\\n\",\" \").replace(\"\\t\",\" \")  \n",
    "    clean_text = \"\".join(c for c in semi_clean_text if c not in string.punctuation)    \n",
    "    words = clean_text.split(\" \")\n",
    "    \n",
    "    for word in words:\n",
    "        if word == '':\n",
    "            continue\n",
    "        else:\n",
    "            if word in wordfreq:\n",
    "                wordfreq[word] += 1\n",
    "            else:\n",
    "                wordfreq[word] = 1\n",
    "\n",
    "    \n",
    "print \"Done\"\n",
    "print wordfreq['APC']"
   ]
  },
  {
   "cell_type": "code",
   "execution_count": null,
   "metadata": {
    "collapsed": false
   },
   "outputs": [],
   "source": []
  },
  {
   "cell_type": "code",
   "execution_count": null,
   "metadata": {
    "collapsed": true
   },
   "outputs": [],
   "source": []
  }
 ],
 "metadata": {
  "kernelspec": {
   "display_name": "Python 2",
   "language": "python",
   "name": "python2"
  },
  "language_info": {
   "codemirror_mode": {
    "name": "ipython",
    "version": 2
   },
   "file_extension": ".py",
   "mimetype": "text/x-python",
   "name": "python",
   "nbconvert_exporter": "python",
   "pygments_lexer": "ipython2",
   "version": "2.7.11"
  }
 },
 "nbformat": 4,
 "nbformat_minor": 0
}
